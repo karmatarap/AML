{
 "cells": [
  {
   "cell_type": "markdown",
   "metadata": {},
   "source": [
    "# Goal\n",
    "\n",
    "We implement two algorithms here: Spectral clustering and DBScan. They are tested on a simulated dataset."
   ]
  },
  {
   "cell_type": "code",
   "execution_count": 113,
   "metadata": {
    "collapsed": true
   },
   "outputs": [],
   "source": [
    "import numpy as np\n",
    "import matplotlib.pyplot as plt\n",
    "import seaborn as sns\n",
    "import pandas as pd\n",
    "import scipy.linalg\n",
    "from sklearn.cluster import KMeans\n",
    "from sklearn.metrics import confusion_matrix\n",
    "\n",
    "%matplotlib inline\n",
    "\n",
    "n_samples = 100\n",
    "centers = 3\n",
    "n_features = 2"
   ]
  },
  {
   "cell_type": "markdown",
   "metadata": {},
   "source": [
    "# Simulate data"
   ]
  },
  {
   "cell_type": "markdown",
   "metadata": {},
   "source": [
    "We simulate the dataset using the SKlearn function `make_blobs`:"
   ]
  },
  {
   "cell_type": "code",
   "execution_count": 90,
   "metadata": {},
   "outputs": [
    {
     "data": {
      "text/plain": [
       "[<matplotlib.lines.Line2D at 0x11f7875f8>]"
      ]
     },
     "execution_count": 90,
     "metadata": {},
     "output_type": "execute_result"
    },
    {
     "data": {
      "image/png": "[encoded data removed]",
      "text/plain": [
       "<matplotlib.figure.Figure at 0x11f6fe780>"
      ]
     },
     "metadata": {},
     "output_type": "display_data"
    }
   ],
   "source": [
    "from sklearn.datasets import make_blobs\n",
    "example_data = make_blobs(n_samples=n_samples, centers=centers, n_features=n_features)\n",
    "data_points = example_data[0]\n",
    "plt.plot(data_points[:, 0], data_points[:, 1], 'p')"
   ]
  },
  {
   "cell_type": "markdown",
   "metadata": {},
   "source": [
    "Here is spectral clustering:\n",
    "\n",
    "1. We calculate the similarity matrix with a Gaussian kernel\n",
    "2. We retreive the nearest neighbors\n",
    "3. Restrict the similarity to nearest neighbors\n",
    "4. We calculate the Laplacian\n",
    "5. Get the eigenvalues and eigenvectors\n",
    "6. For the largest eigenvectors, perform K-means clustering\n",
    "7. Return K-means labels\n",
    "\n",
    "This algorithm is motivated by graph theory where it can be shown that zero eigenvalues correspond to connected components of the graph. Here, we look for the largest eigenvalues, those that are closest to zero."
   ]
  },
  {
   "cell_type": "code",
   "execution_count": 114,
   "metadata": {},
   "outputs": [],
   "source": [
    "X = example_data[0]\n",
    "\n",
    "def spectal_clustering(k, c, data_points, graph_sim):\n",
    "\n",
    "    similarity = np.zeros([n_samples, n_samples])\n",
    "\n",
    "    # Similarity\n",
    "    for i in range(n_samples):\n",
    "        for j in range(n_samples):\n",
    "            pi = data_points[i, :]\n",
    "            pj = data_points[j, :]\n",
    "            dij = (np.power(pi - pj, 2)).sum()\n",
    "            similarity[i, j] = np.exp(-dij / c)        \n",
    "\n",
    "    # Retreive nearest neighbors\n",
    "    nearest_neighbors = np.argsort(-similarity, axis=1)[:, 0:graph_sim]\n",
    "\n",
    "    # Restrict similarity to nearest neighbors\n",
    "    similarity_nearest = similarity\n",
    "    for i in range(n_samples):\n",
    "        for j in range(n_samples):\n",
    "            if not j in nearest_neighbors[i, :]:\n",
    "                similarity_nearest[i, j] = 0\n",
    "\n",
    "\n",
    "    # Calculate Laplacian            \n",
    "    D = np.diag(similarity_nearest.sum(axis=1))\n",
    "    similarity_nearest = similarity_nearest - D\n",
    "\n",
    "    D_12 = scipy.linalg.sqrtm(D, 0.5)\n",
    "    laplacian = (D_12).dot(similarity_nearest).dot(D_12)\n",
    "\n",
    "    eig_vals, eig_vecs = np.linalg.eig(laplacian)\n",
    "    eig_vals = np.real(eig_vals)\n",
    "    eig_vecs = np.real(eig_vecs)\n",
    "\n",
    "    largest_eigen_ind = (-eig_vals).argsort()[0:5]\n",
    "    X = eig_vecs[:, largest_eigen_ind]\n",
    "\n",
    "    X = X / np.sqrt((np.sum(X**2)))\n",
    "\n",
    "    kmeans = KMeans(k)\n",
    "    kmeans.fit(X)\n",
    "\n",
    "    return kmeans.labels_\n",
    "\n",
    "labels = spectal_clustering(4, 1, X, 10)"
   ]
  },
  {
   "cell_type": "code",
   "execution_count": 115,
   "metadata": {},
   "outputs": [
    {
     "data": {
      "text/plain": [
       "<seaborn.axisgrid.FacetGrid at 0x11f7a3cf8>"
      ]
     },
     "execution_count": 115,
     "metadata": {},
     "output_type": "execute_result"
    },
    {
     "data": {
      "image/png": "[encoded data removed]",
      "text/plain": [
       "<matplotlib.figure.Figure at 0x11ed62748>"
      ]
     },
     "metadata": {},
     "output_type": "display_data"
    }
   ],
   "source": [
    "data = pd.DataFrame(example_data[0])\n",
    "data.columns = ['x', 'y']\n",
    "data['cluster'] = example_data[1]\n",
    "data['labels'] = labels\n",
    "\n",
    "sns.lmplot('x', 'y', hue='labels', data=data, fit_reg=False)"
   ]
  },
  {
   "cell_type": "markdown",
   "metadata": {},
   "source": [
    "# DBScan"
   ]
  },
  {
   "cell_type": "markdown",
   "metadata": {},
   "source": [
    "DBScan is a density based algorithm that is relatively straightforward to implement."
   ]
  },
  {
   "cell_type": "markdown",
   "metadata": {},
   "source": [
    "Next, we implement the [DBScan algorithm](https://en.wikipedia.org/wiki/DBSCAN). It is surprisngly simple: \n",
    "\n",
    "1. We initialize all labels to be unkown (-99)\n",
    "2. We loop over all data points. First we check whether the point is already labelled. If yes, then we go to the next point.\n",
    "3. Otherwise we query the epsilon neighbors.\n",
    "4. If the point has too few neighbors, we label it noise (-1). It can become a border point of a different cluster later.\n",
    "5. Then we look over the neighborhood to find the full cluster.\n",
    "\n",
    "Finally querring the epsilon neighbors is straightforward and defined in the function below."
   ]
  },
  {
   "cell_type": "code",
   "execution_count": 116,
   "metadata": {},
   "outputs": [],
   "source": [
    "def query_epsilon_neighbors(point_ind, data, eps):\n",
    "    point = data[point_ind, :]\n",
    "    diffs = data - point\n",
    "    inds = np.sqrt(np.power(diffs, 2).sum(axis=1)) < eps\n",
    "    inds[point_ind] = False\n",
    "    all_inds = np.arange(0, data.shape[0])\n",
    "    return all_inds[inds]\n",
    "\n",
    "def dbscan(x, epsilon, min_points):\n",
    "    C = 0\n",
    "    labels = np.zeros(x.shape[0]) - 99\n",
    "    for point_index in range(x.shape[0]):\n",
    "\n",
    "        # Point already has label\n",
    "        if labels[point_index] != -99:\n",
    "            continue\n",
    "\n",
    "        # Query nearest neighbors\n",
    "        N = query_epsilon_neighbors(point_index, x, epsilon)\n",
    "\n",
    "        # If too few points in neighborhood, label as noise\n",
    "        if N.shape[0] < min_points:\n",
    "            labels[point_index] = -1 # -1 is noise\n",
    "            continue\n",
    "\n",
    "        # Change cluster label\n",
    "        C += 1\n",
    "        labels[point_index] = C\n",
    "\n",
    "        # Set seed S\n",
    "        visited = [point_index]\n",
    "        N = set(N)\n",
    "        while len(N) > 0:\n",
    "            Q = N.pop()\n",
    "            visited.append(Q)\n",
    "\n",
    "            if labels[Q] == -1:\n",
    "                labels[Q] = C\n",
    "\n",
    "            if labels[Q] != -99:\n",
    "                continue\n",
    "\n",
    "            labels[Q] = C\n",
    "\n",
    "            new_neighbors = set(query_epsilon_neighbors(Q, x, epsilon))\n",
    "            if len(new_neighbors) > min_points:\n",
    "                new_neighbors = set([i for i in new_neighbors if i not in visited])\n",
    "                N = N.union(new_neighbors)\n",
    "        \n",
    "    return labels\n",
    "\n",
    "labels = dbscan(data_points, epsilon = 1, min_points = 2)"
   ]
  },
  {
   "cell_type": "markdown",
   "metadata": {},
   "source": [
    "We plot the results below. Looks good!"
   ]
  },
  {
   "cell_type": "code",
   "execution_count": 117,
   "metadata": {},
   "outputs": [
    {
     "data": {
      "text/plain": [
       "<seaborn.axisgrid.FacetGrid at 0x120331b00>"
      ]
     },
     "execution_count": 117,
     "metadata": {},
     "output_type": "execute_result"
    },
    {
     "data": {
      "image/png": "[encoded data removed]",
      "text/plain": [
       "<matplotlib.figure.Figure at 0x120345ac8>"
      ]
     },
     "metadata": {},
     "output_type": "display_data"
    }
   ],
   "source": [
    "data = pd.DataFrame(data_points)\n",
    "data.columns = ['x', 'y']\n",
    "data['cluster'] = labels\n",
    "\n",
    "sns.lmplot('x', 'y', hue='cluster', data=data, fit_reg=False)"
   ]
  },
  {
   "cell_type": "code",
   "execution_count": null,
   "metadata": {
    "collapsed": true
   },
   "outputs": [],
   "source": []
  }
 ],
 "metadata": {
  "kernelspec": {
   "display_name": "Python 3",
   "language": "python",
   "name": "python3"
  },
  "language_info": {
   "codemirror_mode": {
    "name": "ipython",
    "version": 3
   },
   "file_extension": ".py",
   "mimetype": "text/x-python",
   "name": "python",
   "nbconvert_exporter": "python",
   "pygments_lexer": "ipython3",
   "version": "3.6.1"
  }
 },
 "nbformat": 4,
 "nbformat_minor": 2
}
